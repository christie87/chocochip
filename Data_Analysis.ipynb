{
  "cells": [
    {
      "cell_type": "markdown",
      "metadata": {
        "id": "view-in-github",
        "colab_type": "text"
      },
      "source": [
        "<a href=\"https://colab.research.google.com/github/christie87/chocochip/blob/main/Data_Analysis.ipynb\" target=\"_parent\"><img src=\"https://colab.research.google.com/assets/colab-badge.svg\" alt=\"Open In Colab\"/></a>"
      ]
    },
    {
      "metadata": {
        "id": "eSdA0heinKVN"
      },
      "cell_type": "markdown",
      "source": [
        "<p style=\"text-align:center\">\n",
        "    <a href=\"https://skills.network/?utm_medium=Exinfluencer&utm_source=Exinfluencer&utm_content=000026UJ&utm_term=10006555&utm_id=NA-SkillsNetwork-Channel-SkillsNetworkCoursesIBMDA0321ENSkillsNetwork21426264-2022-01-01\" target=\"_blank\">\n",
        "    <img src=\"https://cf-courses-data.s3.us.cloud-object-storage.appdomain.cloud/assets/logos/SN_web_lightmode.png\" width=\"200\" alt=\"Skills Network Logo\"  />\n",
        "    </a>\n",
        "</p>\n"
      ]
    },
    {
      "metadata": {
        "id": "oO7BE21HnKVU"
      },
      "cell_type": "markdown",
      "source": [
        "# **Exploratory Data Analysis Lab**\n"
      ]
    },
    {
      "metadata": {
        "id": "vSIqQSqCnKVV"
      },
      "cell_type": "markdown",
      "source": [
        "Estimated time needed: **30** minutes\n"
      ]
    },
    {
      "metadata": {
        "id": "8CJZ0ey7nKVW"
      },
      "cell_type": "markdown",
      "source": [
        "In this module you get to work with the cleaned dataset from the previous module.\n",
        "\n",
        "In this assignment you will perform the task of exploratory data analysis.\n",
        "You will find out the distribution of data, presence of outliers and also determine the correlation between different columns in the dataset.\n"
      ]
    },
    {
      "metadata": {
        "id": "RJWDc06vnKVX"
      },
      "cell_type": "markdown",
      "source": [
        "## Objectives\n"
      ]
    },
    {
      "metadata": {
        "id": "6tj5xHULnKVX"
      },
      "cell_type": "markdown",
      "source": [
        "In this lab you will perform the following:\n"
      ]
    },
    {
      "metadata": {
        "id": "x6KCi2lMnKVY"
      },
      "cell_type": "markdown",
      "source": [
        "*   Identify the distribution of data in the dataset.\n",
        "\n",
        "*   Identify outliers in the dataset.\n",
        "\n",
        "*   Remove outliers from the dataset.\n",
        "\n",
        "*   Identify correlation between features in the dataset.\n"
      ]
    },
    {
      "metadata": {
        "id": "R7MI4q7QnKVY"
      },
      "cell_type": "markdown",
      "source": [
        "***\n"
      ]
    },
    {
      "metadata": {
        "id": "QRlT3wNznKVZ"
      },
      "cell_type": "markdown",
      "source": [
        "## Hands on Lab\n"
      ]
    },
    {
      "metadata": {
        "id": "L1mzqDRlnKVa"
      },
      "cell_type": "markdown",
      "source": [
        "Import the pandas module.\n"
      ]
    },
    {
      "metadata": {
        "id": "clTYCWCHnKVb"
      },
      "cell_type": "code",
      "source": [
        "import pandas as pd"
      ],
      "execution_count": 1,
      "outputs": []
    },
    {
      "metadata": {
        "id": "YZGOFf89nKVc"
      },
      "cell_type": "markdown",
      "source": [
        "Load the dataset into a dataframe.\n"
      ]
    },
    {
      "metadata": {
        "id": "52rpgIC3nKVd"
      },
      "cell_type": "code",
      "source": [
        "df = pd.read_csv(\"https://cf-courses-data.s3.us.cloud-object-storage.appdomain.cloud/IBM-DA0321EN-SkillsNetwork/LargeData/m2_survey_data.csv\")\n"
      ],
      "execution_count": 2,
      "outputs": []
    },
    {
      "cell_type": "code",
      "source": [
        "df.shape"
      ],
      "metadata": {
        "colab": {
          "base_uri": "https://localhost:8080/"
        },
        "id": "OCjSG6mGxjpx",
        "outputId": "c62108ad-39f6-4aa1-dbf2-a3a7c27dd63c"
      },
      "execution_count": 3,
      "outputs": [
        {
          "output_type": "execute_result",
          "data": {
            "text/plain": [
              "(11398, 85)"
            ]
          },
          "metadata": {},
          "execution_count": 3
        }
      ]
    },
    {
      "metadata": {
        "id": "NkaMYNWQnKVf"
      },
      "cell_type": "markdown",
      "source": [
        "## Distribution\n"
      ]
    },
    {
      "metadata": {
        "id": "dcACiet_nKVf"
      },
      "cell_type": "markdown",
      "source": [
        "### Determine how the data is distributed\n"
      ]
    },
    {
      "metadata": {
        "id": "NRwe3cvMnKVg"
      },
      "cell_type": "markdown",
      "source": [
        "The column `ConvertedComp` contains Salary converted to annual USD salaries using the exchange rate on 2019-02-01.\n",
        "\n",
        "This assumes 12 working months and 50 working weeks.\n"
      ]
    },
    {
      "metadata": {
        "id": "2XMPqJxqnKVh"
      },
      "cell_type": "markdown",
      "source": [
        "Plot the distribution curve for the column `ConvertedComp`.\n"
      ]
    },
    {
      "metadata": {
        "colab": {
          "base_uri": "https://localhost:8080/",
          "height": 506
        },
        "id": "rcZVuUQ7nKVh",
        "outputId": "af6a57be-c5c3-4f29-eedf-155fbd5edf81"
      },
      "cell_type": "code",
      "source": [
        "# your code goes here\n",
        "import seaborn as sns\n",
        "import matplotlib.pyplot as plt\n",
        "sns.displot(df, x=\"ConvertedComp\", kind=\"kde\")\n",
        "plt.show()"
      ],
      "execution_count": 4,
      "outputs": [
        {
          "output_type": "display_data",
          "data": {
            "text/plain": [
              "<Figure size 500x500 with 1 Axes>"
            ],
            "image/png": "[encoded data removed]"
          },
          "metadata": {}
        }
      ]
    },
    {
      "metadata": {
        "id": "nQv_B44PnKVi"
      },
      "cell_type": "markdown",
      "source": [
        "Plot the histogram for the column `ConvertedComp`.\n"
      ]
    },
    {
      "metadata": {
        "colab": {
          "base_uri": "https://localhost:8080/",
          "height": 449
        },
        "id": "cspBYotPnKVi",
        "outputId": "15ab435b-beaa-4027-b4d7-68376a013d13"
      },
      "cell_type": "code",
      "source": [
        "# your code goes here\n",
        "sns.histplot(df,x='ConvertedComp',bins=40)\n",
        "plt.show()"
      ],
      "execution_count": 5,
      "outputs": [
        {
          "output_type": "display_data",
          "data": {
            "text/plain": [
              "<Figure size 640x480 with 1 Axes>"
            ],
            "image/png": "[encoded data removed]"
          },
          "metadata": {}
        }
      ]
    },
    {
      "metadata": {
        "id": "v_emfzj9nKVj"
      },
      "cell_type": "markdown",
      "source": [
        "What is the median of the column `ConvertedComp`?\n"
      ]
    },
    {
      "metadata": {
        "colab": {
          "base_uri": "https://localhost:8080/"
        },
        "id": "QsC2OiEynKVk",
        "outputId": "155deaab-89b9-4ca1-f802-52992d8185a3"
      },
      "cell_type": "code",
      "source": [
        "# your code goes here\n",
        "df.ConvertedComp.median()"
      ],
      "execution_count": 6,
      "outputs": [
        {
          "output_type": "execute_result",
          "data": {
            "text/plain": [
              "57745.0"
            ]
          },
          "metadata": {},
          "execution_count": 6
        }
      ]
    },
    {
      "metadata": {
        "id": "9PcXeWPgnKVk"
      },
      "cell_type": "markdown",
      "source": [
        "How many responders identified themselves only as a **Man**?\n"
      ]
    },
    {
      "metadata": {
        "colab": {
          "base_uri": "https://localhost:8080/"
        },
        "id": "jN0FnorfnKVl",
        "outputId": "fdb40804-c2ed-4705-8ab1-57d81e9513d3"
      },
      "cell_type": "code",
      "source": [
        "# your code goes here\n",
        "(df['Gender']=='Man').sum()"
      ],
      "execution_count": 7,
      "outputs": [
        {
          "output_type": "execute_result",
          "data": {
            "text/plain": [
              "10480"
            ]
          },
          "metadata": {},
          "execution_count": 7
        }
      ]
    },
    {
      "metadata": {
        "id": "dqTdQWZNnKVm"
      },
      "cell_type": "markdown",
      "source": [
        "Find out the  median ConvertedComp of responders identified themselves only as a **Woman**?\n"
      ]
    },
    {
      "metadata": {
        "colab": {
          "base_uri": "https://localhost:8080/"
        },
        "id": "2piNUsTVnKVm",
        "outputId": "1e12369d-c3b7-47a7-df7a-38e73955ddba"
      },
      "cell_type": "code",
      "source": [
        "# your code goes here\n",
        "(df['Gender']=='Woman').sum()"
      ],
      "execution_count": 8,
      "outputs": [
        {
          "output_type": "execute_result",
          "data": {
            "text/plain": [
              "731"
            ]
          },
          "metadata": {},
          "execution_count": 8
        }
      ]
    },
    {
      "metadata": {
        "id": "2m8UNhkVnKVn"
      },
      "cell_type": "markdown",
      "source": [
        "Give the five number summary for the column `Age`?\n"
      ]
    },
    {
      "metadata": {
        "id": "7WOdIo96nKVn"
      },
      "cell_type": "markdown",
      "source": [
        "**Double click here for hint**.\n",
        "\n",
        "<!--\n",
        "min,q1,median,q3,max of a column are its five number summary.\n",
        "-->\n"
      ]
    },
    {
      "metadata": {
        "colab": {
          "base_uri": "https://localhost:8080/"
        },
        "id": "m5jEwc2PnKVn",
        "outputId": "9524f7d3-9395-44d4-c2da-d6a91ff5a191"
      },
      "cell_type": "code",
      "source": [
        "# your code goes here\n",
        "df.Age.describe()"
      ],
      "execution_count": 9,
      "outputs": [
        {
          "output_type": "execute_result",
          "data": {
            "text/plain": [
              "count    11111.000000\n",
              "mean        30.778895\n",
              "std          7.393686\n",
              "min         16.000000\n",
              "25%         25.000000\n",
              "50%         29.000000\n",
              "75%         35.000000\n",
              "max         99.000000\n",
              "Name: Age, dtype: float64"
            ]
          },
          "metadata": {},
          "execution_count": 9
        }
      ]
    },
    {
      "metadata": {
        "id": "p6LDRBYknKVo"
      },
      "cell_type": "markdown",
      "source": [
        "Plot a histogram of the column `Age`.\n"
      ]
    },
    {
      "metadata": {
        "colab": {
          "base_uri": "https://localhost:8080/",
          "height": 449
        },
        "id": "OT0X3qeknKVo",
        "outputId": "91afcb83-a758-4373-b405-c30264a9459e"
      },
      "cell_type": "code",
      "source": [
        "# your code goes here\n",
        "sns.histplot(df,x='Age')\n",
        "\n",
        "plt.show()"
      ],
      "execution_count": 10,
      "outputs": [
        {
          "output_type": "display_data",
          "data": {
            "text/plain": [
              "<Figure size 640x480 with 1 Axes>"
            ],
            "image/png": "[encoded data removed]"
          },
          "metadata": {}
        }
      ]
    },
    {
      "metadata": {
        "id": "HENhROvrnKVp"
      },
      "cell_type": "markdown",
      "source": [
        "## Outliers\n"
      ]
    },
    {
      "metadata": {
        "id": "GY86-UIBnKVp"
      },
      "cell_type": "markdown",
      "source": [
        "### Finding outliers\n"
      ]
    },
    {
      "metadata": {
        "id": "AJu7kuWinKVq"
      },
      "cell_type": "markdown",
      "source": [
        "Find out if outliers exist in the column `ConvertedComp` using a box plot?\n"
      ]
    },
    {
      "metadata": {
        "colab": {
          "base_uri": "https://localhost:8080/",
          "height": 426
        },
        "id": "CMgDdjiLnKVq",
        "outputId": "8328bef7-8887-496d-a3b0-5ddcc0d2c054"
      },
      "cell_type": "code",
      "source": [
        "# your code goes here\n",
        "sns.boxplot(y=df.ConvertedComp)\n",
        "plt.show()"
      ],
      "execution_count": 11,
      "outputs": [
        {
          "output_type": "display_data",
          "data": {
            "text/plain": [
              "<Figure size 640x480 with 1 Axes>"
            ],
            "image/png": "[encoded data removed]"
          },
          "metadata": {}
        }
      ]
    },
    {
      "metadata": {
        "colab": {
          "base_uri": "https://localhost:8080/",
          "height": 449
        },
        "id": "UaYj9cpfnKVr",
        "outputId": "012ceba4-1926-45fe-8c3a-a7bc49328a47"
      },
      "cell_type": "code",
      "source": [
        "sns.boxplot(x=df.Age)\n",
        "plt.show()"
      ],
      "execution_count": 12,
      "outputs": [
        {
          "output_type": "display_data",
          "data": {
            "text/plain": [
              "<Figure size 640x480 with 1 Axes>"
            ],
            "image/png": "[encoded data removed]"
          },
          "metadata": {}
        }
      ]
    },
    {
      "metadata": {
        "id": "kq2yOXlHnKVr"
      },
      "cell_type": "markdown",
      "source": [
        "Find out the Inter Quartile Range for the column `ConvertedComp`.\n"
      ]
    },
    {
      "metadata": {
        "colab": {
          "base_uri": "https://localhost:8080/"
        },
        "id": "W5pIlixrnKVs",
        "outputId": "bbdc2876-b05f-4d39-b7fd-6a5df9d081aa"
      },
      "cell_type": "code",
      "source": [
        "# your code goes here\n",
        "import numpy as np\n",
        "df.ConvertedComp.dropna(inplace=True)\n",
        "q3,q1=df.ConvertedComp.quantile([0.75,0.25])\n",
        "IQR=q3-q1\n",
        "IQR"
      ],
      "execution_count": 13,
      "outputs": [
        {
          "output_type": "execute_result",
          "data": {
            "text/plain": [
              "73132.0"
            ]
          },
          "metadata": {},
          "execution_count": 13
        }
      ]
    },
    {
      "metadata": {
        "id": "q8KE1IJlnKVs"
      },
      "cell_type": "markdown",
      "source": [
        "Find out the upper and lower bounds.\n"
      ]
    },
    {
      "metadata": {
        "colab": {
          "base_uri": "https://localhost:8080/"
        },
        "id": "NwESL_CZnKVt",
        "outputId": "5f1c0ac8-0e4f-4596-f0d3-667c2239e824"
      },
      "cell_type": "code",
      "source": [
        "# your code goes here\n",
        "upper=q3+(IQR*1.5)\n",
        "lower=q1-(IQR*1.5)\n",
        "print(upper)\n",
        "print(lower)"
      ],
      "execution_count": 14,
      "outputs": [
        {
          "output_type": "stream",
          "name": "stdout",
          "text": [
            "209698.0\n",
            "-82830.0\n"
          ]
        }
      ]
    },
    {
      "metadata": {
        "id": "F13p0tBnnKVt"
      },
      "cell_type": "markdown",
      "source": [
        "Identify how many outliers are there in the `ConvertedComp` column.\n"
      ]
    },
    {
      "metadata": {
        "colab": {
          "base_uri": "https://localhost:8080/"
        },
        "id": "7-yDg9z9nKVt",
        "outputId": "3cb7d039-1866-4954-be7d-7747e0da5808"
      },
      "cell_type": "code",
      "source": [
        "# your code goes here\n",
        "outliers=df[(df['ConvertedComp'] > upper) | (df ['ConvertedComp'] < lower)]\n",
        "outliers.shape"
      ],
      "execution_count": 15,
      "outputs": [
        {
          "output_type": "execute_result",
          "data": {
            "text/plain": [
              "(879, 85)"
            ]
          },
          "metadata": {},
          "execution_count": 15
        }
      ]
    },
    {
      "metadata": {
        "id": "xFLKwRrvnKVu"
      },
      "cell_type": "markdown",
      "source": [
        "Create a new dataframe by removing the outliers from the `ConvertedComp` column.\n"
      ]
    },
    {
      "metadata": {
        "colab": {
          "base_uri": "https://localhost:8080/"
        },
        "id": "RImzelpcnKVu",
        "outputId": "008dae59-3d4b-44f5-82b1-b004a576607c"
      },
      "cell_type": "code",
      "source": [
        "# your code goes here\n",
        "df = df[df.ConvertedComp <= upper]\n",
        "df.ConvertedComp.describe()"
      ],
      "execution_count": 16,
      "outputs": [
        {
          "output_type": "execute_result",
          "data": {
            "text/plain": [
              "count      9703.000000\n",
              "mean      59883.208389\n",
              "std       43394.336755\n",
              "min           0.000000\n",
              "25%       24060.000000\n",
              "50%       52704.000000\n",
              "75%       85574.500000\n",
              "max      209356.000000\n",
              "Name: ConvertedComp, dtype: float64"
            ]
          },
          "metadata": {},
          "execution_count": 16
        }
      ]
    },
    {
      "cell_type": "code",
      "source": [
        "print(df.ConvertedComp.median())\n",
        "print(df.ConvertedComp.mean())"
      ],
      "metadata": {
        "colab": {
          "base_uri": "https://localhost:8080/"
        },
        "id": "Yn2GW0DE26-P",
        "outputId": "5e830fd1-52ca-46c4-fbd8-5ec0564d1445"
      },
      "execution_count": 17,
      "outputs": [
        {
          "output_type": "stream",
          "name": "stdout",
          "text": [
            "52704.0\n",
            "59883.20838915799\n"
          ]
        }
      ]
    },
    {
      "metadata": {
        "id": "-wcYRLWYnKVu"
      },
      "cell_type": "markdown",
      "source": [
        "## Correlation\n"
      ]
    },
    {
      "metadata": {
        "id": "583mC4menKVu"
      },
      "cell_type": "markdown",
      "source": [
        "### Finding correlation\n"
      ]
    },
    {
      "metadata": {
        "id": "2XJFORGtnKVv"
      },
      "cell_type": "markdown",
      "source": [
        "Find the correlation between `Age` and all other numerical columns.\n"
      ]
    },
    {
      "metadata": {
        "colab": {
          "base_uri": "https://localhost:8080/",
          "height": 238
        },
        "id": "luyXbKWUnKVv",
        "outputId": "e02f53b5-816e-4bc3-c8cb-42d315a448ee"
      },
      "cell_type": "code",
      "source": [
        "# your code goes here\n",
        "df.select_dtypes(include=np.number).corr()"
      ],
      "execution_count": 18,
      "outputs": [
        {
          "output_type": "execute_result",
          "data": {
            "text/plain": [
              "               Respondent  CompTotal  ConvertedComp  WorkWeekHrs  CodeRevHrs  \\\n",
              "Respondent       1.000000  -0.019354       0.010878    -0.016221    0.005293   \n",
              "CompTotal       -0.019354   1.000000      -0.063561     0.004910    0.017007   \n",
              "ConvertedComp    0.010878  -0.063561       1.000000     0.034351   -0.088934   \n",
              "WorkWeekHrs     -0.016221   0.004910       0.034351     1.000000    0.038935   \n",
              "CodeRevHrs       0.005293   0.017007      -0.088934     0.038935    1.000000   \n",
              "Age              0.002180   0.006337       0.401821     0.032032   -0.012878   \n",
              "\n",
              "                    Age  \n",
              "Respondent     0.002180  \n",
              "CompTotal      0.006337  \n",
              "ConvertedComp  0.401821  \n",
              "WorkWeekHrs    0.032032  \n",
              "CodeRevHrs    -0.012878  \n",
              "Age            1.000000  "
            ],
            "text/html": [
              "\n",
              "  <div id=\"df-0bb75c33-976b-4d7a-ac2b-17d67f408c85\">\n",
              "    <div class=\"colab-df-container\">\n",
              "      <div>\n",
              "<style scoped>\n",
              "    .dataframe tbody tr th:only-of-type {\n",
              "        vertical-align: middle;\n",
              "    }\n",
              "\n",
              "    .dataframe tbody tr th {\n",
              "        vertical-align: top;\n",
              "    }\n",
              "\n",
              "    .dataframe thead th {\n",
              "        text-align: right;\n",
              "    }\n",
              "</style>\n",
              "<table border=\"1\" class=\"dataframe\">\n",
              "  <thead>\n",
              "    <tr style=\"text-align: right;\">\n",
              "      <th></th>\n",
              "      <th>Respondent</th>\n",
              "      <th>CompTotal</th>\n",
              "      <th>ConvertedComp</th>\n",
              "      <th>WorkWeekHrs</th>\n",
              "      <th>CodeRevHrs</th>\n",
              "      <th>Age</th>\n",
              "    </tr>\n",
              "  </thead>\n",
              "  <tbody>\n",
              "    <tr>\n",
              "      <th>Respondent</th>\n",
              "      <td>1.000000</td>\n",
              "      <td>-0.019354</td>\n",
              "      <td>0.010878</td>\n",
              "      <td>-0.016221</td>\n",
              "      <td>0.005293</td>\n",
              "      <td>0.002180</td>\n",
              "    </tr>\n",
              "    <tr>\n",
              "      <th>CompTotal</th>\n",
              "      <td>-0.019354</td>\n",
              "      <td>1.000000</td>\n",
              "      <td>-0.063561</td>\n",
              "      <td>0.004910</td>\n",
              "      <td>0.017007</td>\n",
              "      <td>0.006337</td>\n",
              "    </tr>\n",
              "    <tr>\n",
              "      <th>ConvertedComp</th>\n",
              "      <td>0.010878</td>\n",
              "      <td>-0.063561</td>\n",
              "      <td>1.000000</td>\n",
              "      <td>0.034351</td>\n",
              "      <td>-0.088934</td>\n",
              "      <td>0.401821</td>\n",
              "    </tr>\n",
              "    <tr>\n",
              "      <th>WorkWeekHrs</th>\n",
              "      <td>-0.016221</td>\n",
              "      <td>0.004910</td>\n",
              "      <td>0.034351</td>\n",
              "      <td>1.000000</td>\n",
              "      <td>0.038935</td>\n",
              "      <td>0.032032</td>\n",
              "    </tr>\n",
              "    <tr>\n",
              "      <th>CodeRevHrs</th>\n",
              "      <td>0.005293</td>\n",
              "      <td>0.017007</td>\n",
              "      <td>-0.088934</td>\n",
              "      <td>0.038935</td>\n",
              "      <td>1.000000</td>\n",
              "      <td>-0.012878</td>\n",
              "    </tr>\n",
              "    <tr>\n",
              "      <th>Age</th>\n",
              "      <td>0.002180</td>\n",
              "      <td>0.006337</td>\n",
              "      <td>0.401821</td>\n",
              "      <td>0.032032</td>\n",
              "      <td>-0.012878</td>\n",
              "      <td>1.000000</td>\n",
              "    </tr>\n",
              "  </tbody>\n",
              "</table>\n",
              "</div>\n",
              "      <button class=\"colab-df-convert\" onclick=\"convertToInteractive('df-0bb75c33-976b-4d7a-ac2b-17d67f408c85')\"\n",
              "              title=\"Convert this dataframe to an interactive table.\"\n",
              "              style=\"display:none;\">\n",
              "        \n",
              "  <svg xmlns=\"http://www.w3.org/2000/svg\" height=\"24px\"viewBox=\"0 0 24 24\"\n",
              "       width=\"24px\">\n",
              "    <path d=\"M0 0h24v24H0V0z\" fill=\"none\"/>\n",
              "    <path d=\"M18.56 5.44l.94 2.06.94-2.06 2.06-.94-2.06-.94-.94-2.06-.94 2.06-2.06.94zm-11 1L8.5 8.5l.94-2.06 2.06-.94-2.06-.94L8.5 2.5l-.94 2.06-2.06.94zm10 10l.94 2.06.94-2.06 2.06-.94-2.06-.94-.94-2.06-.94 2.06-2.06.94z\"/><path d=\"M17.41 7.96l-1.37-1.37c-.4-.4-.92-.59-1.43-.59-.52 0-1.04.2-1.43.59L10.3 9.45l-7.72 7.72c-.78.78-.78 2.05 0 2.83L4 21.41c.39.39.9.59 1.41.59.51 0 1.02-.2 1.41-.59l7.78-7.78 2.81-2.81c.8-.78.8-2.07 0-2.86zM5.41 20L4 18.59l7.72-7.72 1.47 1.35L5.41 20z\"/>\n",
              "  </svg>\n",
              "      </button>\n",
              "      \n",
              "  <style>\n",
              "    .colab-df-container {\n",
              "      display:flex;\n",
              "      flex-wrap:wrap;\n",
              "      gap: 12px;\n",
              "    }\n",
              "\n",
              "    .colab-df-convert {\n",
              "      background-color: #E8F0FE;\n",
              "      border: none;\n",
              "      border-radius: 50%;\n",
              "      cursor: pointer;\n",
              "      display: none;\n",
              "      fill: #1967D2;\n",
              "      height: 32px;\n",
              "      padding: 0 0 0 0;\n",
              "      width: 32px;\n",
              "    }\n",
              "\n",
              "    .colab-df-convert:hover {\n",
              "      background-color: #E2EBFA;\n",
              "      box-shadow: 0px 1px 2px rgba(60, 64, 67, 0.3), 0px 1px 3px 1px rgba(60, 64, 67, 0.15);\n",
              "      fill: #174EA6;\n",
              "    }\n",
              "\n",
              "    [theme=dark] .colab-df-convert {\n",
              "      background-color: #3B4455;\n",
              "      fill: #D2E3FC;\n",
              "    }\n",
              "\n",
              "    [theme=dark] .colab-df-convert:hover {\n",
              "      background-color: #434B5C;\n",
              "      box-shadow: 0px 1px 3px 1px rgba(0, 0, 0, 0.15);\n",
              "      filter: drop-shadow(0px 1px 2px rgba(0, 0, 0, 0.3));\n",
              "      fill: #FFFFFF;\n",
              "    }\n",
              "  </style>\n",
              "\n",
              "      <script>\n",
              "        const buttonEl =\n",
              "          document.querySelector('#df-0bb75c33-976b-4d7a-ac2b-17d67f408c85 button.colab-df-convert');\n",
              "        buttonEl.style.display =\n",
              "          google.colab.kernel.accessAllowed ? 'block' : 'none';\n",
              "\n",
              "        async function convertToInteractive(key) {\n",
              "          const element = document.querySelector('#df-0bb75c33-976b-4d7a-ac2b-17d67f408c85');\n",
              "          const dataTable =\n",
              "            await google.colab.kernel.invokeFunction('convertToInteractive',\n",
              "                                                     [key], {});\n",
              "          if (!dataTable) return;\n",
              "\n",
              "          const docLinkHtml = 'Like what you see? Visit the ' +\n",
              "            '<a target=\"_blank\" href=https://colab.research.google.com/notebooks/data_table.ipynb>data table notebook</a>'\n",
              "            + ' to learn more about interactive tables.';\n",
              "          element.innerHTML = '';\n",
              "          dataTable['output_type'] = 'display_data';\n",
              "          await google.colab.output.renderOutput(dataTable, element);\n",
              "          const docLink = document.createElement('div');\n",
              "          docLink.innerHTML = docLinkHtml;\n",
              "          element.appendChild(docLink);\n",
              "        }\n",
              "      </script>\n",
              "    </div>\n",
              "  </div>\n",
              "  "
            ]
          },
          "metadata": {},
          "execution_count": 18
        }
      ]
    },
    {
      "metadata": {
        "id": "KcbcuiqJnKVv"
      },
      "cell_type": "markdown",
      "source": [
        "## Authors\n"
      ]
    },
    {
      "metadata": {
        "id": "xKQ-R0svnKVv"
      },
      "cell_type": "markdown",
      "source": [
        "Ramesh Sannareddy\n"
      ]
    },
    {
      "metadata": {
        "id": "2oa5nbwknKVv"
      },
      "cell_type": "markdown",
      "source": [
        "### Other Contributors\n"
      ]
    },
    {
      "metadata": {
        "id": "ZketY-ZTnKVw"
      },
      "cell_type": "markdown",
      "source": [
        "Rav Ahuja\n"
      ]
    },
    {
      "metadata": {
        "id": "99N5X2BBnKVw"
      },
      "cell_type": "markdown",
      "source": [
        "## Change Log\n"
      ]
    },
    {
      "metadata": {
        "id": "OaevIAngnKVw"
      },
      "cell_type": "markdown",
      "source": [
        "| Date (YYYY-MM-DD) | Version | Changed By        | Change Description                 |\n",
        "| ----------------- | ------- | ----------------- | ---------------------------------- |\n",
        "| 2020-10-17        | 0.1     | Ramesh Sannareddy | Created initial version of the lab |\n"
      ]
    },
    {
      "metadata": {
        "id": "aOuBo36HnKVw"
      },
      "cell_type": "markdown",
      "source": [
        "Copyright © 2020 IBM Corporation. This notebook and its source code are released under the terms of the [MIT License](https://cognitiveclass.ai/mit-license?utm_medium=Exinfluencer&utm_source=Exinfluencer&utm_content=000026UJ&utm_term=10006555&utm_id=NA-SkillsNetwork-Channel-SkillsNetworkCoursesIBMDA0321ENSkillsNetwork21426264-2022-01-01&cm_mmc=Email_Newsletter-\\_-Developer_Ed%2BTech-\\_-WW_WW-\\_-SkillsNetwork-Courses-IBM-DA0321EN-SkillsNetwork-21426264&cm_mmca1=000026UJ&cm_mmca2=10006555&cm_mmca3=M12345678&cvosrc=email.Newsletter.M12345678&cvo_campaign=000026UJ).\n"
      ]
    }
  ],
  "metadata": {
    "kernelspec": {
      "name": "python3",
      "display_name": "Python 3.10",
      "language": "python"
    },
    "language_info": {
      "name": "python",
      "version": "3.10.9",
      "mimetype": "text/x-python",
      "codemirror_mode": {
        "name": "ipython",
        "version": 3
      },
      "pygments_lexer": "ipython3",
      "nbconvert_exporter": "python",
      "file_extension": ".py"
    },
    "colab": {
      "provenance": [],
      "include_colab_link": true
    }
  },
  "nbformat": 4,
  "nbformat_minor": 0
}